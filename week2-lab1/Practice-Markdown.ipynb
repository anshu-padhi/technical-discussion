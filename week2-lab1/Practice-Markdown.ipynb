{
  "nbformat": 4,
  "nbformat_minor": 0,
  "metadata": {
    "kernelspec": {
      "display_name": "Python 3",
      "language": "python",
      "name": "python3"
    },
    "language_info": {
      "codemirror_mode": {
        "name": "ipython",
        "version": 3
      },
      "file_extension": ".py",
      "mimetype": "text/x-python",
      "name": "python",
      "nbconvert_exporter": "python",
      "pygments_lexer": "ipython3",
      "version": "3.7.6"
    },
    "colab": {
      "name": "Practice-Markdown.ipynb",
      "provenance": [],
      "include_colab_link": true
    }
  },
  "cells": [
    {
      "cell_type": "markdown",
      "metadata": {
        "id": "view-in-github",
        "colab_type": "text"
      },
      "source": [
        "<a href=\"https://colab.research.google.com/github/anshu-padhi/technical-discussion/blob/main/week2-lab1/Practice-Markdown.ipynb\" target=\"_parent\"><img src=\"https://colab.research.google.com/assets/colab-badge.svg\" alt=\"Open In Colab\"/></a>"
      ]
    },
    {
      "cell_type": "markdown",
      "metadata": {
        "id": "oN4JctqvxnuC"
      },
      "source": [
        "## Practice Markdown"
      ]
    },
    {
      "cell_type": "markdown",
      "metadata": {
        "id": "umYbPjEGxnuF"
      },
      "source": [
        "This notebook lets you experiment with producing repeatable technical documentation.  Use this notebook to do the following actions:\n",
        "\n",
        "* Create a code cell and print a Python Hello World statement:  `print(\"hello world\")`\n",
        "* Create a Markdown Cell and add a Title using `#` and then a statement using plain text.  You can looks at the source code for this cell to get an idea of how to use Markdown.\n",
        "* Take some ideas from the [Master Markdown Github Guide](https://guides.github.com/features/mastering-markdown/) and implement them here.\n",
        "* Download this notebook as a `.ipynb` file and check into a Github Project.  You can [see an example here](https://github.com/noahgift/duke-coursera-ccf-lab1/blob/main/Practice-Markdown.ipynb).\n",
        "* Open your notebook in Google Colab and save it into the same Github Project.  You can [see an example here](https://github.com/noahgift/duke-coursera-ccf-lab1/blob/main/Practice_Markdown_with_colab.ipynb).\n"
      ]
    },
    {
      "cell_type": "code",
      "metadata": {
        "id": "pIhmgi91xnuG",
        "outputId": "2765fd8a-1c5b-4416-9aa6-9ab4bfac9627"
      },
      "source": [
        "print(\"hello world\")"
      ],
      "execution_count": null,
      "outputs": [
        {
          "name": "stdout",
          "output_type": "stream",
          "text": [
            "hello world\n"
          ]
        }
      ]
    },
    {
      "cell_type": "markdown",
      "metadata": {
        "id": "FxfYIodUxnuI"
      },
      "source": [
        "# Markdown Practice"
      ]
    },
    {
      "cell_type": "markdown",
      "metadata": {
        "id": "Ykxa1m3HxnuI"
      },
      "source": [
        "# The Largest Heading\n",
        "## The second largest heading\n",
        "###### The smallest heading"
      ]
    },
    {
      "cell_type": "markdown",
      "metadata": {
        "id": "7w16nimnxnuI"
      },
      "source": [
        "This is not a quote\n",
        "> This is a quote"
      ]
    },
    {
      "cell_type": "markdown",
      "metadata": {
        "id": "B2gsYDKgxnuJ"
      },
      "source": [
        "### Quting code\n",
        "\n",
        "Use `git status` to list all new or modified files that haven't yet been committed.\n",
        "\n",
        "Some basic Git commands are:\n",
        "```\n",
        "git status\n",
        "git add\n",
        "git commit\n",
        "```"
      ]
    },
    {
      "cell_type": "markdown",
      "metadata": {
        "id": "frj0UsVrxnuK"
      },
      "source": [
        "This is a link to [basic markdown syntax](https://docs.github.com/en/github/writing-on-github/getting-started-with-writing-and-formatting-on-github/basic-writing-and-formatting-syntax)"
      ]
    },
    {
      "cell_type": "markdown",
      "metadata": {
        "id": "7FaSA6GAxwmW"
      },
      "source": [
        "#### Changes made using colab"
      ]
    },
    {
      "cell_type": "code",
      "metadata": {
        "id": "dOYhFO37x3kk"
      },
      "source": [
        ""
      ],
      "execution_count": null,
      "outputs": []
    }
  ]
}